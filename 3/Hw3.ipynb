{
 "cells": [
  {
   "cell_type": "markdown",
   "id": "e33066d96923176f",
   "metadata": {
    "collapsed": false,
    "jupyter": {
     "outputs_hidden": false
    }
   },
   "source": [
    "# Лінійна регресія"
   ]
  },
  {
   "cell_type": "code",
   "execution_count": 12,
   "id": "initial_id",
   "metadata": {
    "ExecuteTime": {
     "end_time": "2023-10-01T18:36:58.819206300Z",
     "start_time": "2023-10-01T18:36:58.339521900Z"
    }
   },
   "outputs": [],
   "source": [
    "%matplotlib inline\n",
    "import numpy as np\n",
    "import pandas as pd\n",
    "from sklearn.linear_model import LinearRegression"
   ]
  },
  {
   "cell_type": "code",
   "execution_count": 13,
   "id": "91695c576a45c77d",
   "metadata": {
    "ExecuteTime": {
     "end_time": "2023-10-01T18:36:58.835221200Z",
     "start_time": "2023-10-01T18:36:58.821207600Z"
    },
    "collapsed": false,
    "jupyter": {
     "outputs_hidden": false
    }
   },
   "outputs": [],
   "source": [
    "df = pd.read_csv('Housing.csv')"
   ]
  },
  {
   "cell_type": "code",
   "execution_count": 14,
   "id": "fc7fd1de7fc29f10",
   "metadata": {
    "ExecuteTime": {
     "end_time": "2023-10-01T18:36:58.899146400Z",
     "start_time": "2023-10-01T18:36:58.840221400Z"
    },
    "collapsed": false,
    "jupyter": {
     "outputs_hidden": false
    }
   },
   "outputs": [
    {
     "data": {
      "text/html": [
       "<div>\n",
       "<style scoped>\n",
       "    .dataframe tbody tr th:only-of-type {\n",
       "        vertical-align: middle;\n",
       "    }\n",
       "\n",
       "    .dataframe tbody tr th {\n",
       "        vertical-align: top;\n",
       "    }\n",
       "\n",
       "    .dataframe thead th {\n",
       "        text-align: right;\n",
       "    }\n",
       "</style>\n",
       "<table border=\"1\" class=\"dataframe\">\n",
       "  <thead>\n",
       "    <tr style=\"text-align: right;\">\n",
       "      <th></th>\n",
       "      <th>price</th>\n",
       "      <th>area</th>\n",
       "      <th>bedrooms</th>\n",
       "      <th>bathrooms</th>\n",
       "      <th>stories</th>\n",
       "      <th>mainroad</th>\n",
       "      <th>guestroom</th>\n",
       "      <th>basement</th>\n",
       "      <th>hotwaterheating</th>\n",
       "      <th>airconditioning</th>\n",
       "      <th>parking</th>\n",
       "      <th>prefarea</th>\n",
       "      <th>furnishingstatus</th>\n",
       "    </tr>\n",
       "  </thead>\n",
       "  <tbody>\n",
       "    <tr>\n",
       "      <th>0</th>\n",
       "      <td>13300000</td>\n",
       "      <td>7420</td>\n",
       "      <td>4</td>\n",
       "      <td>2</td>\n",
       "      <td>3</td>\n",
       "      <td>1</td>\n",
       "      <td>0</td>\n",
       "      <td>0</td>\n",
       "      <td>0</td>\n",
       "      <td>1</td>\n",
       "      <td>2</td>\n",
       "      <td>1</td>\n",
       "      <td>0</td>\n",
       "    </tr>\n",
       "    <tr>\n",
       "      <th>1</th>\n",
       "      <td>12250000</td>\n",
       "      <td>8960</td>\n",
       "      <td>4</td>\n",
       "      <td>4</td>\n",
       "      <td>4</td>\n",
       "      <td>1</td>\n",
       "      <td>0</td>\n",
       "      <td>0</td>\n",
       "      <td>0</td>\n",
       "      <td>1</td>\n",
       "      <td>3</td>\n",
       "      <td>0</td>\n",
       "      <td>0</td>\n",
       "    </tr>\n",
       "    <tr>\n",
       "      <th>2</th>\n",
       "      <td>12250000</td>\n",
       "      <td>9960</td>\n",
       "      <td>3</td>\n",
       "      <td>2</td>\n",
       "      <td>2</td>\n",
       "      <td>1</td>\n",
       "      <td>0</td>\n",
       "      <td>1</td>\n",
       "      <td>0</td>\n",
       "      <td>0</td>\n",
       "      <td>2</td>\n",
       "      <td>1</td>\n",
       "      <td>1</td>\n",
       "    </tr>\n",
       "    <tr>\n",
       "      <th>3</th>\n",
       "      <td>12215000</td>\n",
       "      <td>7500</td>\n",
       "      <td>4</td>\n",
       "      <td>2</td>\n",
       "      <td>2</td>\n",
       "      <td>1</td>\n",
       "      <td>0</td>\n",
       "      <td>1</td>\n",
       "      <td>0</td>\n",
       "      <td>1</td>\n",
       "      <td>3</td>\n",
       "      <td>1</td>\n",
       "      <td>0</td>\n",
       "    </tr>\n",
       "    <tr>\n",
       "      <th>4</th>\n",
       "      <td>11410000</td>\n",
       "      <td>7420</td>\n",
       "      <td>4</td>\n",
       "      <td>1</td>\n",
       "      <td>2</td>\n",
       "      <td>1</td>\n",
       "      <td>1</td>\n",
       "      <td>1</td>\n",
       "      <td>0</td>\n",
       "      <td>1</td>\n",
       "      <td>2</td>\n",
       "      <td>0</td>\n",
       "      <td>0</td>\n",
       "    </tr>\n",
       "  </tbody>\n",
       "</table>\n",
       "</div>"
      ],
      "text/plain": [
       "      price  area  bedrooms  bathrooms  stories  mainroad  guestroom  \\\n",
       "0  13300000  7420         4          2        3         1          0   \n",
       "1  12250000  8960         4          4        4         1          0   \n",
       "2  12250000  9960         3          2        2         1          0   \n",
       "3  12215000  7500         4          2        2         1          0   \n",
       "4  11410000  7420         4          1        2         1          1   \n",
       "\n",
       "   basement  hotwaterheating  airconditioning  parking  prefarea  \\\n",
       "0         0                0                1        2         1   \n",
       "1         0                0                1        3         0   \n",
       "2         1                0                0        2         1   \n",
       "3         1                0                1        3         1   \n",
       "4         1                0                1        2         0   \n",
       "\n",
       "   furnishingstatus  \n",
       "0                 0  \n",
       "1                 0  \n",
       "2                 1  \n",
       "3                 0  \n",
       "4                 0  "
      ]
     },
     "execution_count": 14,
     "metadata": {},
     "output_type": "execute_result"
    }
   ],
   "source": [
    "df.replace({'yes': 1, 'no': 0}, inplace=True)\n",
    "df.replace({'furnished': 0, 'semi-furnished': 1, 'unfurnished': 2}, inplace=True)\n",
    "df.head()"
   ]
  },
  {
   "cell_type": "markdown",
   "id": "e8c63a8f8eb29d1f",
   "metadata": {
    "collapsed": false,
    "jupyter": {
     "outputs_hidden": false
    }
   },
   "source": [
    "Завдання: знайдіть найкращі параметри $\\vec{w}$ для датасету прогнозуючу ціну на будинок залежно від площі, кількості ванних кімнат та кількості спалень."
   ]
  },
  {
   "cell_type": "code",
   "execution_count": 15,
   "id": "9386b36a9e04087e",
   "metadata": {
    "ExecuteTime": {
     "end_time": "2023-10-01T18:36:58.931334900Z",
     "start_time": "2023-10-01T18:36:58.910146800Z"
    },
    "collapsed": false,
    "jupyter": {
     "outputs_hidden": false
    }
   },
   "outputs": [],
   "source": [
    "df_selected = df[['price','area', 'bedrooms', 'bathrooms']] # Selecting chosen parameters"
   ]
  },
  {
   "cell_type": "code",
   "execution_count": 16,
   "id": "8a64262c6dee467",
   "metadata": {
    "ExecuteTime": {
     "end_time": "2023-10-01T18:36:59.086485300Z",
     "start_time": "2023-10-01T18:36:58.926336200Z"
    },
    "collapsed": false,
    "jupyter": {
     "outputs_hidden": false
    }
   },
   "outputs": [
    {
     "data": {
      "text/html": [
       "<div>\n",
       "<style scoped>\n",
       "    .dataframe tbody tr th:only-of-type {\n",
       "        vertical-align: middle;\n",
       "    }\n",
       "\n",
       "    .dataframe tbody tr th {\n",
       "        vertical-align: top;\n",
       "    }\n",
       "\n",
       "    .dataframe thead th {\n",
       "        text-align: right;\n",
       "    }\n",
       "</style>\n",
       "<table border=\"1\" class=\"dataframe\">\n",
       "  <thead>\n",
       "    <tr style=\"text-align: right;\">\n",
       "      <th></th>\n",
       "      <th>price</th>\n",
       "      <th>area</th>\n",
       "      <th>bedrooms</th>\n",
       "      <th>bathrooms</th>\n",
       "    </tr>\n",
       "  </thead>\n",
       "  <tbody>\n",
       "    <tr>\n",
       "      <th>0</th>\n",
       "      <td>4.562174</td>\n",
       "      <td>1.045766</td>\n",
       "      <td>1.402131</td>\n",
       "      <td>1.420507</td>\n",
       "    </tr>\n",
       "    <tr>\n",
       "      <th>1</th>\n",
       "      <td>4.000809</td>\n",
       "      <td>1.755397</td>\n",
       "      <td>1.402131</td>\n",
       "      <td>5.400847</td>\n",
       "    </tr>\n",
       "    <tr>\n",
       "      <th>2</th>\n",
       "      <td>4.000809</td>\n",
       "      <td>2.216196</td>\n",
       "      <td>0.047235</td>\n",
       "      <td>1.420507</td>\n",
       "    </tr>\n",
       "    <tr>\n",
       "      <th>3</th>\n",
       "      <td>3.982096</td>\n",
       "      <td>1.082630</td>\n",
       "      <td>1.402131</td>\n",
       "      <td>1.420507</td>\n",
       "    </tr>\n",
       "    <tr>\n",
       "      <th>4</th>\n",
       "      <td>3.551716</td>\n",
       "      <td>1.045766</td>\n",
       "      <td>1.402131</td>\n",
       "      <td>-0.569663</td>\n",
       "    </tr>\n",
       "  </tbody>\n",
       "</table>\n",
       "</div>"
      ],
      "text/plain": [
       "      price      area  bedrooms  bathrooms\n",
       "0  4.562174  1.045766  1.402131   1.420507\n",
       "1  4.000809  1.755397  1.402131   5.400847\n",
       "2  4.000809  2.216196  0.047235   1.420507\n",
       "3  3.982096  1.082630  1.402131   1.420507\n",
       "4  3.551716  1.045766  1.402131  -0.569663"
      ]
     },
     "execution_count": 16,
     "metadata": {},
     "output_type": "execute_result"
    }
   ],
   "source": [
    "normalize = lambda data: (data - data.mean()) / data.std() # mean normalization\n",
    "df_selected_normalized = df_selected.apply(normalize)\n",
    "df_selected_normalized.head()"
   ]
  },
  {
   "cell_type": "code",
   "execution_count": 17,
   "id": "b8b360b8dcbfb318",
   "metadata": {
    "ExecuteTime": {
     "end_time": "2023-10-01T18:36:59.087504200Z",
     "start_time": "2023-10-01T18:36:58.971885300Z"
    },
    "collapsed": false,
    "jupyter": {
     "outputs_hidden": false
    }
   },
   "outputs": [],
   "source": [
    "X = df_selected_normalized[['area', 'bedrooms', 'bathrooms']] # Chosen Characteristics (x or inputs)\n",
    "Y = df_selected_normalized['price'] # Chosen Target (y or targets)"
   ]
  },
  {
   "cell_type": "markdown",
   "id": "251a6b92208469f7",
   "metadata": {
    "collapsed": false,
    "jupyter": {
     "outputs_hidden": false
    }
   },
   "source": [
    "- напишіть функцію гіпотези лінійної регресії у векторному вигляді;\n",
    "- створіть функцію для обчислення функції втрат у векторному вигляді;\n",
    "- реалізуйте один крок градієнтного спуску."
   ]
  },
  {
   "cell_type": "code",
   "execution_count": 18,
   "id": "c413e5d54fc010a6",
   "metadata": {
    "ExecuteTime": {
     "end_time": "2023-10-01T18:36:59.087504200Z",
     "start_time": "2023-10-01T18:36:58.985032400Z"
    },
    "collapsed": false,
    "jupyter": {
     "outputs_hidden": false
    }
   },
   "outputs": [],
   "source": [
    "def linear_model(inputs, weights):\n",
    "    return  inputs @ weights\n",
    "\n",
    "def calculate_loss(predicted_values, actual_values):\n",
    "    return (1 / (2 * len(actual_values))) * np.sum(np.square(predicted_values - actual_values))\n",
    "\n",
    "def calculate_gradient(inputs, targets, weights):\n",
    "    predicted_values = linear_model(inputs, weights)\n",
    "    gradient_value = inputs.T @ (predicted_values - targets) / len(targets)\n",
    "    error = calculate_loss(predicted_values, targets)\n",
    "    return gradient_value, error\n",
    "\n",
    "def gradient_descent(inputs, targets, initial_weights, learning_rate = 0.01, num_iterations = 2000):\n",
    "    best_error = np.inf\n",
    "    best_weights = initial_weights.copy()\n",
    "    for _ in range(num_iterations):\n",
    "        gradient_value, current_error = calculate_gradient(inputs, targets, initial_weights)\n",
    "        initial_weights -= learning_rate * gradient_value\n",
    "        if current_error < best_error:\n",
    "            best_error = current_error\n",
    "            best_weights = initial_weights.copy()         \n",
    "    return best_weights"
   ]
  },
  {
   "cell_type": "markdown",
   "id": "5d41c0d6f0353a8",
   "metadata": {
    "collapsed": false,
    "jupyter": {
     "outputs_hidden": false
    }
   },
   "source": [
    "## Calculation"
   ]
  },
  {
   "cell_type": "code",
   "execution_count": 19,
   "id": "9275a98bce0f0b31",
   "metadata": {
    "ExecuteTime": {
     "end_time": "2023-10-01T18:37:01.691500100Z",
     "start_time": "2023-10-01T18:36:59.004072400Z"
    },
    "collapsed": false,
    "jupyter": {
     "outputs_hidden": false
    }
   },
   "outputs": [],
   "source": [
    "w = np.zeros(X.shape[1])\n",
    "calculated_weights = gradient_descent(X, Y, w)\n",
    "calculated_weights.index = [0,1,2]"
   ]
  },
  {
   "cell_type": "markdown",
   "id": "e721fed32f134ec8",
   "metadata": {
    "collapsed": false,
    "jupyter": {
     "outputs_hidden": false
    }
   },
   "source": [
    "знайдіть ці ж параметри за допомогою аналітичного рішення"
   ]
  },
  {
   "cell_type": "code",
   "execution_count": 20,
   "id": "ff874f87f9eaac5f",
   "metadata": {
    "ExecuteTime": {
     "end_time": "2023-10-01T18:37:01.719264Z",
     "start_time": "2023-10-01T18:37:01.696501700Z"
    },
    "collapsed": false,
    "jupyter": {
     "outputs_hidden": false
    }
   },
   "outputs": [],
   "source": [
    "analytical = np.linalg.inv(X.T @ X) @ X.T @ Y # Generalized inverse"
   ]
  },
  {
   "cell_type": "markdown",
   "id": "a2fd696893b2b8e5",
   "metadata": {
    "collapsed": false,
    "jupyter": {
     "outputs_hidden": false
    }
   },
   "source": [
    "scikit learn linear model (for reference)"
   ]
  },
  {
   "cell_type": "code",
   "execution_count": 21,
   "id": "f18c75e063edb5f4",
   "metadata": {
    "ExecuteTime": {
     "end_time": "2023-10-01T18:37:01.758030300Z",
     "start_time": "2023-10-01T18:37:01.717239Z"
    },
    "collapsed": false,
    "jupyter": {
     "outputs_hidden": false
    }
   },
   "outputs": [],
   "source": [
    "model = LinearRegression()\n",
    "model.fit(X, Y)\n",
    "coefficients = pd.Series(model.coef_)"
   ]
  },
  {
   "cell_type": "markdown",
   "id": "c70d441883ebfeef",
   "metadata": {
    "collapsed": false,
    "jupyter": {
     "outputs_hidden": false
    }
   },
   "source": [
    "## Summary"
   ]
  },
  {
   "cell_type": "code",
   "execution_count": 22,
   "id": "e4bedbe6d2a71b4",
   "metadata": {
    "ExecuteTime": {
     "end_time": "2023-10-01T18:37:01.759030100Z",
     "start_time": "2023-10-01T18:37:01.733555100Z"
    },
    "collapsed": false,
    "jupyter": {
     "outputs_hidden": false
    }
   },
   "outputs": [
    {
     "data": {
      "text/html": [
       "<div>\n",
       "<style scoped>\n",
       "    .dataframe tbody tr th:only-of-type {\n",
       "        vertical-align: middle;\n",
       "    }\n",
       "\n",
       "    .dataframe tbody tr th {\n",
       "        vertical-align: top;\n",
       "    }\n",
       "\n",
       "    .dataframe thead th {\n",
       "        text-align: right;\n",
       "    }\n",
       "</style>\n",
       "<table border=\"1\" class=\"dataframe\">\n",
       "  <thead>\n",
       "    <tr style=\"text-align: right;\">\n",
       "      <th></th>\n",
       "      <th>Linear hypothesis</th>\n",
       "      <th>Analytical solution</th>\n",
       "      <th>Lin Regression (scikit)</th>\n",
       "    </tr>\n",
       "  </thead>\n",
       "  <tbody>\n",
       "    <tr>\n",
       "      <th>area</th>\n",
       "      <td>0.439452</td>\n",
       "      <td>0.439452</td>\n",
       "      <td>0.439452</td>\n",
       "    </tr>\n",
       "    <tr>\n",
       "      <th>bedrooms</th>\n",
       "      <td>0.160529</td>\n",
       "      <td>0.160529</td>\n",
       "      <td>0.160529</td>\n",
       "    </tr>\n",
       "    <tr>\n",
       "      <th>bathrooms</th>\n",
       "      <td>0.372344</td>\n",
       "      <td>0.372344</td>\n",
       "      <td>0.372344</td>\n",
       "    </tr>\n",
       "  </tbody>\n",
       "</table>\n",
       "</div>"
      ],
      "text/plain": [
       "           Linear hypothesis  Analytical solution  Lin Regression (scikit)\n",
       "area                0.439452             0.439452                 0.439452\n",
       "bedrooms            0.160529             0.160529                 0.160529\n",
       "bathrooms           0.372344             0.372344                 0.372344"
      ]
     },
     "execution_count": 22,
     "metadata": {},
     "output_type": "execute_result"
    }
   ],
   "source": [
    "summary = pd.DataFrame({'Linear hypothesis':calculated_weights, 'Analytical solution': analytical, 'Lin Regression (scikit)': coefficients})\n",
    "summary.index = ['area', 'bedrooms', 'bathrooms']\n",
    "summary"
   ]
  },
  {
   "cell_type": "code",
   "execution_count": null,
   "id": "2e89af34-fc1d-4c41-9971-0048bf0d165c",
   "metadata": {},
   "outputs": [],
   "source": []
  },
  {
   "cell_type": "code",
   "execution_count": null,
   "id": "027c7a92-e3dc-4786-be09-74933528e0dc",
   "metadata": {},
   "outputs": [],
   "source": []
  },
  {
   "cell_type": "code",
   "execution_count": null,
   "id": "c45a50a0-9991-48fe-bf0d-ef3514fd73fb",
   "metadata": {},
   "outputs": [],
   "source": []
  }
 ],
 "metadata": {
  "kernelspec": {
   "display_name": "Python 3 (ipykernel)",
   "language": "python",
   "name": "python3"
  },
  "language_info": {
   "codemirror_mode": {
    "name": "ipython",
    "version": 3
   },
   "file_extension": ".py",
   "mimetype": "text/x-python",
   "name": "python",
   "nbconvert_exporter": "python",
   "pygments_lexer": "ipython3",
   "version": "3.11.3"
  }
 },
 "nbformat": 4,
 "nbformat_minor": 5
}
